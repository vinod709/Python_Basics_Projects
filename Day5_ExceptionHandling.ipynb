{
  "nbformat": 4,
  "nbformat_minor": 0,
  "metadata": {
    "colab": {
      "provenance": []
    },
    "kernelspec": {
      "name": "python3",
      "display_name": "Python 3"
    },
    "language_info": {
      "name": "python"
    }
  },
  "cells": [
    {
      "cell_type": "code",
      "execution_count": 2,
      "metadata": {
        "colab": {
          "base_uri": "https://localhost:8080/"
        },
        "id": "kF9fUAhCpZzM",
        "outputId": "473915c1-add7-4425-8bf6-748be14bdc95"
      },
      "outputs": [
        {
          "output_type": "stream",
          "name": "stdout",
          "text": [
            "Enter a number: 2.1\n",
            "Oops! That wasn't a number\n"
          ]
        }
      ],
      "source": [
        "#1. Basic Try-Except\n",
        "\n",
        "#python\n",
        "try:\n",
        "    num = int(input(\"Enter a number: \"))\n",
        "    print(\"Your number is:\", num)\n",
        "except ValueError:\n",
        "    print(\"Oops! That wasn't a number\")\n",
        "\n",
        "\n",
        "#Great for handling wrong input"
      ]
    },
    {
      "cell_type": "code",
      "source": [
        "#2. Try-Except-Finally\n",
        "\n",
        "#python\n",
        "try:\n",
        "    result = 10 / 0\n",
        "except ZeroDivisionError:\n",
        "    print(\"Can't divide by zero!\")\n",
        "finally:\n",
        "    print(\"This block always runs\")\n",
        "\n",
        "\n",
        "#finally = always runs, even if there's an error."
      ],
      "metadata": {
        "colab": {
          "base_uri": "https://localhost:8080/"
        },
        "id": "tRTxyeLxqeCp",
        "outputId": "e1d62196-d084-46a4-e22c-26775fdd435e"
      },
      "execution_count": 3,
      "outputs": [
        {
          "output_type": "stream",
          "name": "stdout",
          "text": [
            "Can't divide by zero!\n",
            "This block always runs\n"
          ]
        }
      ]
    },
    {
      "cell_type": "code",
      "source": [
        "#3. Multiple Exceptions\n",
        "\n",
        "#python\n",
        "try:\n",
        "    name = input(\"Enter your name: \")\n",
        "    age = int(input(\"Enter your age: \"))\n",
        "    print(f\"{name} is {age} years old.\")\n",
        "except ValueError:\n",
        "    print(\"Age must be a number \")\n",
        "except Exception as e:\n",
        "    print(\"Something went wrong:\", e)\n"
      ],
      "metadata": {
        "colab": {
          "base_uri": "https://localhost:8080/"
        },
        "id": "vatiPpy4q7sM",
        "outputId": "bc200f25-a12b-45ca-a513-32b5bf6b93a1"
      },
      "execution_count": 4,
      "outputs": [
        {
          "output_type": "stream",
          "name": "stdout",
          "text": [
            "Enter your name: vinod\n",
            "Enter your age: 25\n",
            "vinod is 25 years old.\n"
          ]
        }
      ]
    },
    {
      "cell_type": "code",
      "source": [
        "#Mini Challenge\n",
        "#Build a safe calculator :\n",
        "\n",
        "#python\n",
        "try:\n",
        "    a = int(input(\"Enter first number: \"))\n",
        "    b = int(input(\"Enter second number: \"))\n",
        "    print(\"Result:\", a / b)\n",
        "except ZeroDivisionError:\n",
        "    print(\"Oops! Cannot divide by zero\")\n",
        "except ValueError:\n",
        "    print(\"Please enter valid numbers only!\")"
      ],
      "metadata": {
        "colab": {
          "base_uri": "https://localhost:8080/"
        },
        "id": "bdSvXJj8rbIB",
        "outputId": "2f1ba2d4-eb16-4afd-eb40-ad0c7f54737c"
      },
      "execution_count": 7,
      "outputs": [
        {
          "output_type": "stream",
          "name": "stdout",
          "text": [
            "Enter first number: 222222222222\n",
            "Enter second number: vinod\n",
            "Please enter valid numbers only!\n"
          ]
        }
      ]
    }
  ]
}