{
  "nbformat": 4,
  "nbformat_minor": 0,
  "metadata": {
    "colab": {
      "provenance": []
    },
    "kernelspec": {
      "name": "python3",
      "display_name": "Python 3"
    },
    "language_info": {
      "name": "python"
    }
  },
  "cells": [
    {
      "cell_type": "code",
      "execution_count": 2,
      "metadata": {
        "colab": {
          "base_uri": "https://localhost:8080/"
        },
        "id": "o0uB3rSxJCmB",
        "outputId": "eefad83a-2d1e-4885-a0e6-03311dca5199"
      },
      "outputs": [
        {
          "output_type": "stream",
          "name": "stdout",
          "text": [
            "Enter your name: vinod\n",
            "Hello vinod 👋! Welcome to Day 1 of your Python journey 🚀\n"
          ]
        }
      ],
      "source": [
        "# Snowy's First Python Program 🐧❄️\n",
        "name = input(\"Enter your name: \")\n",
        "print(\"Hello\", name, \"👋! Welcome to Day 1 of your Python journey 🚀\")"
      ]
    },
    {
      "cell_type": "code",
      "source": [
        "#python\n",
        "#Let's do some fun with numbers!\n",
        "a = 10\n",
        "b = 5\n",
        "\n",
        "sum_ = a + b\n",
        "difference = a - b\n",
        "product = a * b\n",
        "division = a / b\n",
        "\n",
        "print(\"Sum:\", sum_)\n",
        "print(\"Difference:\", difference)\n",
        "print(\"Product:\", product)\n",
        "print(\"Division:\", division)"
      ],
      "metadata": {
        "colab": {
          "base_uri": "https://localhost:8080/"
        },
        "id": "MxLh-qzhKtiv",
        "outputId": "8dab2ef8-184f-4993-85c3-66f8b3da9449"
      },
      "execution_count": 3,
      "outputs": [
        {
          "output_type": "stream",
          "name": "stdout",
          "text": [
            "Sum: 15\n",
            "Difference: 5\n",
            "Product: 50\n",
            "Division: 2.0\n"
          ]
        }
      ]
    },
    {
      "cell_type": "code",
      "source": [
        "#Turn 100 Calculator 🎂✨\n",
        "name = input(\"Enter your name: \")\n",
        "age = int(input(\"Enter your current age: \"))\n",
        "current_year = 2025\n",
        "\n",
        "year_hundred = current_year + (100 - age)\n",
        "\n",
        "print(f\"Hey {name}, you'll turn 100 years old in the year {year_hundred}! 🎉🎂\")"
      ],
      "metadata": {
        "colab": {
          "base_uri": "https://localhost:8080/"
        },
        "id": "A7aqfv7kLBWz",
        "outputId": "6ea31364-9b6e-4936-f55a-7898e0166420"
      },
      "execution_count": 4,
      "outputs": [
        {
          "output_type": "stream",
          "name": "stdout",
          "text": [
            "Enter your name: vinod\n",
            "Enter your current age: 25\n",
            "Hey vinod, you'll turn 100 years old in the year 2100! 🎉🎂\n"
          ]
        }
      ]
    }
  ]
}