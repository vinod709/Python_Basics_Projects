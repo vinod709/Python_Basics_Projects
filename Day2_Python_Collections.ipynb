{
  "nbformat": 4,
  "nbformat_minor": 0,
  "metadata": {
    "colab": {
      "provenance": []
    },
    "kernelspec": {
      "name": "python3",
      "display_name": "Python 3"
    },
    "language_info": {
      "name": "python"
    }
  },
  "cells": [
    {
      "cell_type": "code",
      "execution_count": 3,
      "metadata": {
        "colab": {
          "base_uri": "https://localhost:8080/"
        },
        "id": "myJJpmphTGP6",
        "outputId": "24423743-3756-4b2b-8f0a-bc26f209e453"
      },
      "outputs": [
        {
          "output_type": "stream",
          "name": "stdout",
          "text": [
            "apple\n",
            "['apple', 'banana', 'cherry', 'mango']\n"
          ]
        }
      ],
      "source": [
        "# 1. List – Ordered, changeable\n",
        "\n",
        "#python\n",
        "fruits = [\"apple\", \"banana\", \"cherry\"]\n",
        "print(fruits[0])  # apple\n",
        "fruits.append(\"mango\")\n",
        "print(fruits)"
      ]
    },
    {
      "cell_type": "code",
      "source": [
        "#2. Tuple – Ordered, unchangeable (immutable)\n",
        "\n",
        "#python\n",
        "colors = (\"red\", \"green\", \"blue\")\n",
        "print(colors[1])  # green\n",
        "\n",
        "\n",
        "#🧠 Use when you want data to stay fixed.\n"
      ],
      "metadata": {
        "colab": {
          "base_uri": "https://localhost:8080/"
        },
        "id": "IL_mmGIOUyQL",
        "outputId": "6e6f271f-4b75-4e0f-8c58-527d0c1a6fcd"
      },
      "execution_count": 6,
      "outputs": [
        {
          "output_type": "stream",
          "name": "stdout",
          "text": [
            "green\n"
          ]
        }
      ]
    },
    {
      "cell_type": "code",
      "source": [
        "#3. Set – Unordered, no duplicates\n",
        "\n",
        "#python\n",
        "numbers = {1, 2, 2, 3, 4}\n",
        "print(numbers)  # {1, 2, 3, 4}\n",
        "numbers.add(5)\n",
        "\n",
        "\n",
        "#💡 Notice how duplicates are removed automatically!\n"
      ],
      "metadata": {
        "colab": {
          "base_uri": "https://localhost:8080/"
        },
        "id": "1QhRBdhlVM5f",
        "outputId": "a9878348-0bec-42ce-d2f3-8de27db52c8a"
      },
      "execution_count": 7,
      "outputs": [
        {
          "output_type": "stream",
          "name": "stdout",
          "text": [
            "{1, 2, 3, 4}\n"
          ]
        }
      ]
    },
    {
      "cell_type": "code",
      "source": [
        "#4. Dictionary – Key-Value pairs\n",
        "\n",
        "#python\n",
        "student = {\n",
        "    \"name\": \"Vinod\",\n",
        "    \"age\": 25,\n",
        "    \"course\": \"Python\"\n",
        "}\n",
        "print(student[\"name\"])  # Vinod\n"
      ],
      "metadata": {
        "colab": {
          "base_uri": "https://localhost:8080/"
        },
        "id": "gq7LQqiRVXET",
        "outputId": "ae9c12ad-8fe4-40a2-9866-173f5c660669"
      },
      "execution_count": 8,
      "outputs": [
        {
          "output_type": "stream",
          "name": "stdout",
          "text": [
            "Vinod\n"
          ]
        }
      ]
    },
    {
      "cell_type": "code",
      "source": [
        "#Try:\n",
        "#python\n",
        "student[\"age\"] = 26\n",
        "print(student)"
      ],
      "metadata": {
        "colab": {
          "base_uri": "https://localhost:8080/"
        },
        "id": "PyyPpHJOV1xo",
        "outputId": "308d540d-6dc7-481b-9046-28e45aa5ce35"
      },
      "execution_count": 11,
      "outputs": [
        {
          "output_type": "stream",
          "name": "stdout",
          "text": [
            "{'name': 'Vinod', 'age': 26, 'course': 'Python'}\n"
          ]
        }
      ]
    },
    {
      "cell_type": "code",
      "source": [
        "#mini Challenge:\n",
        "#Write a dictionary for your *favorite movies*:\n",
        "#python\n",
        "fav_movies = {\n",
        "    \"action\": \"KGF\",\n",
        "    \"drama\": \"RRR\",\n",
        "    \"comedy\": \"Hera Pheri\"\n",
        "}"
      ],
      "metadata": {
        "id": "bNRFEVepWS3P"
      },
      "execution_count": 12,
      "outputs": []
    },
    {
      "cell_type": "markdown",
      "source": [
        "Day 2 (Part 2): If-Else & Loops\n",
        "\n",
        "These help your code think and repeat — just like magic"
      ],
      "metadata": {
        "id": "Y4fXv5zZaKSc"
      }
    },
    {
      "cell_type": "code",
      "source": [
        "#1. If-Else Statements (Conditions)\n",
        "\n",
        "#python\n",
        "age = int(input(\"Enter your age: \"))\n",
        "\n",
        "if age >= 18:\n",
        "    print(\"You are eligible to vote 🗳️\")\n",
        "else:\n",
        "    print(\"Sorry, you're not old enough to vote.\")\n",
        "\n",
        "\n",
        "\n"
      ],
      "metadata": {
        "colab": {
          "base_uri": "https://localhost:8080/"
        },
        "id": "TChUqJLfaPji",
        "outputId": "dd09d6e2-5c5a-44c7-f0ed-a240e2522d49"
      },
      "execution_count": 14,
      "outputs": [
        {
          "output_type": "stream",
          "name": "stdout",
          "text": [
            "Enter your age: 17\n",
            "Sorry, you're not old enough to vote.\n"
          ]
        }
      ]
    },
    {
      "cell_type": "code",
      "source": [
        "#2. For Loop – Repeat for each item in a list\n",
        "\n",
        "#python\n",
        "fruits = [\"apple\", \"banana\", \"mango\"]\n",
        "\n",
        "for fruit in fruits:\n",
        "    print(\"I love\", fruit)\n"
      ],
      "metadata": {
        "colab": {
          "base_uri": "https://localhost:8080/"
        },
        "id": "TyMrakSjavJq",
        "outputId": "96e21400-7540-4988-f225-8f35cb9baaca"
      },
      "execution_count": 15,
      "outputs": [
        {
          "output_type": "stream",
          "name": "stdout",
          "text": [
            "I love apple\n",
            "I love banana\n",
            "I love mango\n"
          ]
        }
      ]
    },
    {
      "cell_type": "code",
      "source": [
        "#3. While Loop – Repeat until condition is false\n",
        "\n",
        "#python\n",
        "count = 1\n",
        "\n",
        "while count <= 5:\n",
        "    print(\"Count is:\", count)\n",
        "    count += 1"
      ],
      "metadata": {
        "colab": {
          "base_uri": "https://localhost:8080/"
        },
        "id": "no1g8qiga-vo",
        "outputId": "8468feea-8f0a-44bc-a46a-e88b6defad6c"
      },
      "execution_count": 16,
      "outputs": [
        {
          "output_type": "stream",
          "name": "stdout",
          "text": [
            "Count is: 1\n",
            "Count is: 2\n",
            "Count is: 3\n",
            "Count is: 4\n",
            "Count is: 5\n"
          ]
        }
      ]
    },
    {
      "cell_type": "code",
      "source": [
        "#Mini Challenge for You:\n",
        "\n",
        "#Build a movie recommender based on your favorite genre:\n",
        "\n",
        "#python\n",
        "genre = input(\"Enter your favorite genre (action, drama, comedy): \")\n",
        "\n",
        "if genre == \"action\":\n",
        "    print(\"Watch KGF! 🔥\")\n",
        "elif genre == \"drama\":\n",
        "    print(\"Try RRR! 🎭\")\n",
        "elif genre == \"comedy\":\n",
        "    print(\"Hera Pheri is a classic 😂\")\n",
        "else:\n",
        "    print(\"Genre not found 😅\")"
      ],
      "metadata": {
        "colab": {
          "base_uri": "https://localhost:8080/"
        },
        "id": "vJ5PylL5bIF5",
        "outputId": "4129f58d-ced3-437e-df6c-e2afa4af85cb"
      },
      "execution_count": 17,
      "outputs": [
        {
          "output_type": "stream",
          "name": "stdout",
          "text": [
            "Enter your favorite genre (action, drama, comedy): comedy\n",
            "Hera Pheri is a classic 😂\n"
          ]
        }
      ]
    }
  ]
}