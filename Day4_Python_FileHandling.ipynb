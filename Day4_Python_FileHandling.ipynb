{
  "nbformat": 4,
  "nbformat_minor": 0,
  "metadata": {
    "colab": {
      "provenance": []
    },
    "kernelspec": {
      "name": "python3",
      "display_name": "Python 3"
    },
    "language_info": {
      "name": "python"
    }
  },
  "cells": [
    {
      "cell_type": "code",
      "execution_count": 2,
      "metadata": {
        "id": "vtzJhfEZkdFQ"
      },
      "outputs": [],
      "source": [
        "#1. Writing to a File\n",
        "\n",
        "#python\n",
        "#Create & write into a file\n",
        "with open(\"vinod_notes.txt\", \"w\") as file:\n",
        "    file.write(\"This is Vinod's Python journey log.\\n\")\n",
        "    file.write(\"Day 4: Learning file handling!\")\n",
        "\n",
        "#\"w\" means write mode — it overwrites the file if it already exists.\n"
      ]
    },
    {
      "cell_type": "code",
      "source": [
        "#2. Reading a File\n",
        "\n",
        "#python\n",
        "#Read file content\n",
        "with open(\"vinod_notes.txt\", \"r\") as file:\n",
        "    content = file.read()\n",
        "    print(content)\n",
        "\n",
        "\n",
        "# \"r\" = read mode\n",
        "#Try reading a file after writing something to it!"
      ],
      "metadata": {
        "colab": {
          "base_uri": "https://localhost:8080/"
        },
        "id": "ltcUq6kBlQPw",
        "outputId": "462c9d5c-4cf4-481b-fc1c-0cff5b545ffb"
      },
      "execution_count": 3,
      "outputs": [
        {
          "output_type": "stream",
          "name": "stdout",
          "text": [
            "This is Vinod's Python journey log.\n",
            "Day 4: Learning file handling!\n"
          ]
        }
      ]
    },
    {
      "cell_type": "code",
      "source": [
        "#3. Appending to a File\n",
        "\n",
        "#python\n",
        "#Add more content without deleting old\n",
        "with open(\"vinod_notes.txt\", \"a\") as file:\n",
        "    file.write(\"\\nAdded more notes at the end.\")"
      ],
      "metadata": {
        "id": "6_VHM4hjl4P4"
      },
      "execution_count": 4,
      "outputs": []
    },
    {
      "cell_type": "code",
      "source": [
        "with open(\"vinod_notes.txt\", \"r\") as file:\n",
        "    content = file.read()\n",
        "    print(content)\n"
      ],
      "metadata": {
        "colab": {
          "base_uri": "https://localhost:8080/"
        },
        "id": "uzpkuVbqmSQY",
        "outputId": "4a7820fd-0293-460c-949d-c7edbfb11280"
      },
      "execution_count": 5,
      "outputs": [
        {
          "output_type": "stream",
          "name": "stdout",
          "text": [
            "This is Vinod's Python journey log.\n",
            "Day 4: Learning file handling!\n",
            "Added more notes at the end.\n"
          ]
        }
      ]
    },
    {
      "cell_type": "code",
      "source": [
        "#Mini Challenge:\n",
        "#Create a small note-taking script:\n",
        "\n",
        "#python\n",
        "note = input(\"Write your note here: \")\n",
        "\n",
        "with open(\"vinod_notes.txt\", \"a\") as file:\n",
        "    file.write(\"\\n\" + note)\n",
        "\n",
        "print(\"Note saved successfully! 📝\")"
      ],
      "metadata": {
        "colab": {
          "base_uri": "https://localhost:8080/"
        },
        "id": "cDF5PHb2mkWC",
        "outputId": "be34208a-1c33-4a2d-8de4-6035292856c6"
      },
      "execution_count": 6,
      "outputs": [
        {
          "output_type": "stream",
          "name": "stdout",
          "text": [
            "Write your note here: python is a good language!\n",
            "Note saved successfully! 📝\n"
          ]
        }
      ]
    },
    {
      "cell_type": "code",
      "source": [
        "with open(\"vinod_notes.txt\", \"r\") as file:\n",
        "    content = file.read()\n",
        "    print(content)\n"
      ],
      "metadata": {
        "colab": {
          "base_uri": "https://localhost:8080/"
        },
        "id": "IREV_0mWnAMy",
        "outputId": "05b728f7-bcd6-4eb8-a4af-c83cafedb3ad"
      },
      "execution_count": 7,
      "outputs": [
        {
          "output_type": "stream",
          "name": "stdout",
          "text": [
            "This is Vinod's Python journey log.\n",
            "Day 4: Learning file handling!\n",
            "Added more notes at the end.\n",
            "python is a good language!\n"
          ]
        }
      ]
    }
  ]
}