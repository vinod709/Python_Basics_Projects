{
  "nbformat": 4,
  "nbformat_minor": 0,
  "metadata": {
    "colab": {
      "provenance": []
    },
    "kernelspec": {
      "name": "python3",
      "display_name": "Python 3"
    },
    "language_info": {
      "name": "python"
    }
  },
  "cells": [
    {
      "cell_type": "code",
      "execution_count": 2,
      "metadata": {
        "colab": {
          "base_uri": "https://localhost:8080/"
        },
        "id": "V-lr-7D8gVxa",
        "outputId": "1d6c955b-cb43-474e-c303-3bdbd698b8f8"
      },
      "outputs": [
        {
          "output_type": "stream",
          "name": "stdout",
          "text": [
            "Hello Vinod, you're doing great!\n"
          ]
        }
      ],
      "source": [
        "#1. Basic Function\n",
        "\n",
        "#python\n",
        "def greet(name):\n",
        "    print(f\"Hello {name}, you're doing great!\")\n",
        "\n",
        "greet(\"Vinod\")\n",
        "\n",
        "\n",
        "#def means \"define a function\"\n"
      ]
    },
    {
      "cell_type": "code",
      "source": [
        "#2. Function With Return Value\n",
        "\n",
        "#python\n",
        "def square(num):\n",
        "    return num * num\n",
        "\n",
        "result = square(5)\n",
        "print(\"Square is:\", result)\n",
        "\n",
        "\n",
        "#Try changing the number and see how it works!"
      ],
      "metadata": {
        "colab": {
          "base_uri": "https://localhost:8080/"
        },
        "id": "dYqrC5CZhusp",
        "outputId": "9cb1a599-ad47-45d4-ab3f-dae489e89b23"
      },
      "execution_count": 3,
      "outputs": [
        {
          "output_type": "stream",
          "name": "stdout",
          "text": [
            "Square is: 25\n"
          ]
        }
      ]
    },
    {
      "cell_type": "code",
      "source": [
        "#3. Function With Conditions Inside\n",
        "\n",
        "#python\n",
        "def check_even(num):\n",
        "    if num % 2 == 0:\n",
        "        return \"Even number\"\n",
        "    else:\n",
        "        return \"Odd number\"\n",
        "\n",
        "print(check_even(7))"
      ],
      "metadata": {
        "colab": {
          "base_uri": "https://localhost:8080/"
        },
        "id": "MJV2SIywh81K",
        "outputId": "b7ba4abf-aabc-45e5-ea36-205b43e670dd"
      },
      "execution_count": 5,
      "outputs": [
        {
          "output_type": "stream",
          "name": "stdout",
          "text": [
            "Odd number\n"
          ]
        }
      ]
    },
    {
      "cell_type": "code",
      "source": [
        "#Mini Task: Create a calculator function\n",
        "\n",
        "#python\n",
        "def calculator(a, b, operator):\n",
        "    if operator == \"+\":\n",
        "        return a + b\n",
        "    elif operator == \"-\":\n",
        "        return a - b\n",
        "    elif operator == \"*\":\n",
        "        return a * b\n",
        "    elif operator == \"/\":\n",
        "        return a / b\n",
        "    else:\n",
        "        return \"Invalid operator\"\n",
        "\n",
        "print(calculator(10, 5, \"-\"))"
      ],
      "metadata": {
        "colab": {
          "base_uri": "https://localhost:8080/"
        },
        "id": "af52XfQAihaC",
        "outputId": "1c555079-1fa0-422d-c996-8a4a2f3ca375"
      },
      "execution_count": 9,
      "outputs": [
        {
          "output_type": "stream",
          "name": "stdout",
          "text": [
            "5\n"
          ]
        }
      ]
    }
  ]
}